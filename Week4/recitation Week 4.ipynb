{
 "cells": [
  {
   "cell_type": "markdown",
   "metadata": {},
   "source": [
    "## Week 4: Kernels, Support Vector Machines"
   ]
  },
  {
   "cell_type": "markdown",
   "metadata": {},
   "source": [
    "### Part I: Kernels \n",
    "\n",
    "#### Exercise 1. A complex dataset\n",
    "\n",
    "Consider the dataset given below. We want to learn a classifier for this data, by relying on the $\\ell_2$ loss.  "
   ]
  },
  {
   "cell_type": "code",
   "execution_count": 2,
   "metadata": {},
   "outputs": [
    {
     "data": {
      "image/png": "[encoded data removed]",
      "text/plain": [
       "<Figure size 432x288 with 1 Axes>"
      ]
     },
     "metadata": {
      "needs_background": "light"
     },
     "output_type": "display_data"
    }
   ],
   "source": [
    "import numpy as np\n",
    "import matplotlib.pyplot as plt\n",
    "\n",
    "from scipy.io import loadmat\n",
    "pointsClass1 = loadmat('KernelPointsEx1class1.mat')['PointsEx1class1']\n",
    "pointsClass2 = loadmat('KernelPointsEx1class2.mat')['PointsEx1class2']\n",
    "\n",
    "\n",
    "plt.scatter(pointsClass1[:,0], pointsClass1[:,1], c='r')\n",
    "plt.scatter(pointsClass2[:,0], pointsClass2[:,1], c='b')\n",
    "plt.show()"
   ]
  },
  {
   "cell_type": "code",
   "execution_count": 20,
   "metadata": {},
   "outputs": [],
   "source": [
    "from sklearn.preprocessing import PolynomialFeatures\n",
    "\n",
    "\n",
    "# total number of points\n",
    "num_points = np.shape(pointsClass1)[0] + np.shape(pointsClass2)[0]\n",
    "\n",
    "\n",
    "# grouping the data \n",
    "data = np.vstack((pointsClass1, pointsClass2))\n",
    "target_class1 = np.ones((np.shape(pointsClass1)[0], 1))\n",
    "target_class2 = -np.ones((np.shape(pointsClass2)[0], 1))\n",
    "# defining +1/-1 targets\n",
    "target = np.vstack((target_class1, target_class2))\n",
    "\n",
    "# generate phi(x) from polynomial features\n",
    "my_features = PolynomialFeatures(10)\n",
    "featureMatrix = my_features.fit_transform(data)\n",
    "\n",
    "# defining kernel \n",
    "\n",
    "K = np.zeros((np.shape(featureMatrix)[0], np.shape(featureMatrix)[0]))\n",
    "\n",
    "for i in np.arange(np.shape(featureMatrix)[0]):\n",
    "    \n",
    "    for j in np.arange(np.shape(featureMatrix)[0]):\n",
    "        \n",
    "        K[i,j] = np.dot(featureMatrix[i],featureMatrix[j])\n",
    "\n",
    "    \n",
    "lbda = np.zeros((np.shape(featureMatrix)[0], 1))\n",
    "        \n",
    "eta = .1\n",
    "\n",
    "# we then compute the lambda_i's from the original gradient \n",
    "# updates in which we substituted beta = sum_i lambda_i phi(x^i)\n",
    "    \n",
    "current_iter = 0\n",
    "maxIter = 500\n",
    "while current_iter < maxIter:\n",
    "    \n",
    "    lbda = lbda + (eta/np.shape(featureMatrix)[0])*(target -\\\n",
    "                                                    np.matmul(K, lbda))\n",
    "    current_iter +=1    "
   ]
  },
  {
   "cell_type": "code",
   "execution_count": 19,
   "metadata": {},
   "outputs": [
    {
     "data": {
      "image/png": "[encoded data removed]",
      "text/plain": [
       "<Figure size 432x288 with 1 Axes>"
      ]
     },
     "metadata": {
      "needs_background": "light"
     },
     "output_type": "display_data"
    }
   ],
   "source": [
    "# once we have the lambda, the classifier is defined as \n",
    "\n",
    "\n",
    "# y(x) = \\sum_i=1^n lambda_i K(x_i, x)\n",
    "\n",
    "# which follows from y(x) = beta^T phi(x) and \n",
    "# beta  = sum_i lambda_i phi(x_i)\n",
    "\n",
    "# generate the limits of the data space \n",
    "xmin1 = np.min(data[:,0])\n",
    "xmax1 = np.max(data[:,0])\n",
    "xmin2 = np.min(data[:,1])\n",
    "xmax2 = np.max(data[:,1])\n",
    "\n",
    "# for each dimension in data space, I generate 100 points \n",
    "# between the min and the max values\n",
    "\n",
    "x1 = np.linspace(xmin1, xmax1, 100)\n",
    "x2 = np.linspace(xmin2, xmax2, 100)\n",
    "\n",
    "# from those values, generate the grid \n",
    "xx1, xx2 = np.meshgrid(x1, x2)\n",
    "\n",
    "# reshape the grid into a data matrix\n",
    "# where column 1 is first coordinate, column 2 is second coordinate\n",
    "\n",
    "grid_data = np.vstack((xx1.flatten(), xx2.flatten())).T\n",
    "\n",
    "# generate phi(x) for each grid point\n",
    "grid_data_featureVectors = my_features.fit_transform(grid_data)\n",
    "\n",
    "# compute the result of the classification and color the result in \n",
    "# red and blue\n",
    "\n",
    "prediction = np.zeros((np.shape(grid_data)[0], 1))\n",
    "    \n",
    "    \n",
    "# the prediction for a new point x is given by \n",
    "# y(x) = \\sum_{i=1}^N lambda_i <phi(x^i), phi(x)>\n",
    "    \n",
    "for j in range(np.shape(grid_data_featureVectors)[0]):\n",
    "    \n",
    "    prediction[j] = 0\n",
    "    \n",
    "    for i in range(np.shape(featureMatrix)[0]):\n",
    "        \n",
    "        prediction[j]+=lbda[i]*np.dot(featureMatrix[i,:],\\\n",
    "                                   grid_data_featureVectors[j,:])\n",
    "        \n",
    "\n",
    "        \n",
    "# Display the final prediction \n",
    "\n",
    "from matplotlib.colors import ListedColormap\n",
    "cm_bright = ListedColormap([\"#0000FF\", \"#FF0000\"])\n",
    "\n",
    "plt.contourf(xx1, xx2, prediction.reshape(np.shape(xx1))>0, \n",
    "             cmap = cm_bright,alpha = .2, )\n",
    "plt.scatter(pointsClass1[:,0], pointsClass1[:,1], c='r')\n",
    "plt.scatter(pointsClass2[:,0], pointsClass2[:,1], c='b')\n",
    "plt.show()\n"
   ]
  },
  {
   "cell_type": "markdown",
   "metadata": {},
   "source": [
    "#### Exercise 1.1 Gradient updates on the dual formulation\n",
    "\n",
    "Start by generating polynomial features using the function 'sklearn.preprocessing.PolynomialFeatures' from scikit learn. By relying on the kernel trick, starting from the $\\ell_2$ (OLS) loss, derive the dual formulation (optimization problem on the coefficients $\\lambda_i$ that are used to express the weight vector $\\beta$ as the combination $\\beta$). Once you have that loss, find the optimal coefficients $\\lambda^*$ through gradient updates. "
   ]
  },
  {
   "cell_type": "code",
   "execution_count": null,
   "metadata": {},
   "outputs": [],
   "source": [
    "# put your code here \n",
    "\n"
   ]
  },
  {
   "cell_type": "markdown",
   "metadata": {},
   "source": [
    "#### Exercise 1.2 Final Models\n",
    "\n",
    "Using the optimal coefficients, derive the classifier $y(\\mathbf{x}) = \\mathbf{\\beta}^T\\mathbf{\\phi}(\\mathbf{x})$, expressing the weight vector $\\mathbf{\\beta}$ as the combination $\\mathbf{\\beta} = \\sum_{i=1}^N \\lambda_i^* \\mathbf{\\phi}(\\mathbf{x}^{(i)})$. Then display the boundary by using meshgrid. "
   ]
  },
  {
   "cell_type": "code",
   "execution_count": null,
   "metadata": {},
   "outputs": [],
   "source": []
  },
  {
   "cell_type": "markdown",
   "metadata": {},
   "source": [
    "#### Exercise 2 A disconnected dataset. \n",
    "\n",
    "We want to increase the difficulty of the problem. Use your implementation of descent algorithm to learn a classifier for the dataset below. Progressively increase the number of features (i.e. increase the degree) and keep in mind that there is often and efficient way to compute the Kernel matrix. "
   ]
  },
  {
   "cell_type": "code",
   "execution_count": 11,
   "metadata": {},
   "outputs": [
    {
     "data": {
      "image/png": "[encoded data removed]",
      "text/plain": [
       "<Figure size 432x288 with 1 Axes>"
      ]
     },
     "metadata": {
      "needs_background": "light"
     },
     "output_type": "display_data"
    }
   ],
   "source": [
    "import numpy as np\n",
    "import matplotlib.pyplot as plt\n",
    "\n",
    "from scipy.io import loadmat\n",
    "pointsClass1 = loadmat('KernelPointsEx2class1.mat')['PointsEx2class1']\n",
    "pointsClass2 = loadmat('KernelPointsEx2class2.mat')['PointsEx2class2']\n",
    "\n",
    "\n",
    "plt.scatter(pointsClass1[:,0], pointsClass1[:,1], c='r')\n",
    "plt.scatter(pointsClass2[:,0], pointsClass2[:,1], c='b')\n",
    "plt.show()"
   ]
  },
  {
   "cell_type": "markdown",
   "metadata": {},
   "source": [
    "#### Exercise 3. From polynomial features to the Gaussian kernel\n",
    "\n",
    "Use your gradient descent iterations on the $\\mathbf{\\lambda}_i$ to learn a classifier for the dataset below by relying on the Gaussian kernel. "
   ]
  },
  {
   "cell_type": "code",
   "execution_count": 54,
   "metadata": {},
   "outputs": [
    {
     "data": {
      "image/png": "[encoded data removed]",
      "text/plain": [
       "<Figure size 432x288 with 1 Axes>"
      ]
     },
     "metadata": {
      "needs_background": "light"
     },
     "output_type": "display_data"
    }
   ],
   "source": [
    "import numpy as np\n",
    "import matplotlib.pyplot as plt\n",
    "\n",
    "from scipy.io import loadmat\n",
    "pointsClass1 = loadmat('KernelPointsEx3class1 (1).mat')['PointsEx3class1']\n",
    "pointsClass2 = loadmat('KernelPointsEx3class2 (1).mat')['PointsEx3class2']\n",
    "\n",
    "\n",
    "plt.scatter(pointsClass1[:,0], pointsClass1[:,1], c='r')\n",
    "plt.scatter(pointsClass2[:,0], pointsClass2[:,1], c='b')\n",
    "plt.show()\n",
    "\n",
    "\n",
    "data = np.vstack((pointsClass1, pointsClass2))\n",
    "targets = np.vstack((np.ones((np.shape(pointsClass1)[0], 1)),\n",
    "                     -np.ones((np.shape(pointsClass2)[0], 1))))\n",
    "\n",
    "\n",
    "# exp(-||x^i - x^j||/sigma)\n",
    "\n"
   ]
  },
  {
   "cell_type": "code",
   "execution_count": 64,
   "metadata": {},
   "outputs": [],
   "source": [
    "# defining the kernel \n",
    "\n",
    "sigma = .005\n",
    "\n",
    "K = np.zeros((np.shape(data)[0], np.shape(data)[0]))\n",
    "\n",
    "# defining the kernel\n",
    "\n",
    "for i in range(np.shape(data)[0]):\n",
    "    for j in range(np.shape(data)[0]):\n",
    "        \n",
    "        K[i,j] = np.exp(-np.linalg.norm(data[i,:] - data[j,:])**2/sigma)\n",
    "\n",
    "lbda = np.zeros((np.shape(data)[0],1))\n",
    "\n",
    "maxIter = 8000\n",
    "\n",
    "eta = .01\n",
    "numIter = 1\n",
    "while numIter<maxIter:\n",
    "    \n",
    "    lbda = lbda + \\\n",
    "    (eta/np.shape(data)[0])*(targets - np.matmul(K, lbda))\n",
    "    \n",
    "    numIter+=1"
   ]
  },
  {
   "cell_type": "code",
   "execution_count": 65,
   "metadata": {},
   "outputs": [
    {
     "data": {
      "image/png": "[encoded data removed]",
      "text/plain": [
       "<Figure size 432x288 with 1 Axes>"
      ]
     },
     "metadata": {
      "needs_background": "light"
     },
     "output_type": "display_data"
    }
   ],
   "source": [
    "xmin1 = np.min(data[:,0])\n",
    "xmax1 = np.max(data[:,0])\n",
    "xmin2 = np.min(data[:,1])\n",
    "xmax2 = np.max(data[:,1])\n",
    "\n",
    "# for each dimension in data space, I generate 100 points \n",
    "# between the min and the max values\n",
    "\n",
    "x1 = np.linspace(xmin1, xmax1, 100)\n",
    "x2 = np.linspace(xmin2, xmax2, 100)\n",
    "\n",
    "# from those values, generate the grid \n",
    "xx1, xx2 = np.meshgrid(x1, x2)\n",
    "\n",
    "# reshape the grid into a data matrix\n",
    "# where column 1 is first coordinate, column 2 is second coordinate\n",
    "\n",
    "grid_data = np.vstack((xx1.flatten(), xx2.flatten())).T\n",
    "\n",
    "prediction = np.zeros((np.shape(grid_data)[0], 1))\n",
    "    \n",
    "    \n",
    "for j in range(np.shape(grid_data)[0]):\n",
    "    \n",
    "    prediction[j] = 0\n",
    "    \n",
    "    for i in range(np.shape(data)[0]):\n",
    "        \n",
    "        # y(x) = beta^T x = sum_i lambda_i phi(x_i)^T phi(x)\n",
    "        # y(x) = sum_i lambda_i K(x^i, x)\n",
    "        # y(x) = sum_i lambda_i exp(-||x^i - x||^2/sigma)\n",
    "        prediction[j]+=lbda[i]*\\\n",
    "        np.exp(-np.linalg.norm(data[i,:]\\\n",
    "                                   - grid_data[j,:])**2/sigma)\n",
    "        \n",
    "# Display the final prediction \n",
    "\n",
    "from matplotlib.colors import ListedColormap\n",
    "cm_bright = ListedColormap([\"#0000FF\", \"#FF0000\"])\n",
    "\n",
    "plt.contourf(xx1, xx2, prediction.reshape(np.shape(xx1))>0, \n",
    "             cmap = cm_bright,alpha = .2, )\n",
    "plt.scatter(pointsClass1[:,0], pointsClass1[:,1], c='r')\n",
    "plt.scatter(pointsClass2[:,0], pointsClass2[:,1], c='b')\n",
    "plt.show()\n"
   ]
  },
  {
   "cell_type": "markdown",
   "metadata": {},
   "source": [
    "#### Exercise 4. \n",
    "\n",
    "Kernels are particularly useful in protein classification. When considering the classification of proteins, one approach is to rely on homology (i.e. evolutionary similarity). The problem can be recast as a supervised learning problem where proteins are seen as a set of labeled samples (positive if they are in a particular family, negative otherwise). Consider the dataset given below. Load this dataset using the pandas lines below. The dataset contains a set of 2000 sequence over the nucleotides A,T,C,G. Those sequences encode particular proteines which are classified in two groups represented by 0/1 targets stored in the file 'trainTargets.csv'."
   ]
  },
  {
   "cell_type": "code",
   "execution_count": 1,
   "metadata": {},
   "outputs": [],
   "source": [
    "import pandas as pd \n",
    "# Read data from file 'filename.csv' \n",
    "# (in the same directory that your python process is based)\n",
    "# Control delimiters, rows, column names with read_csv (see later) \n",
    "train_data = pd.read_csv(\"train.csv\")\n",
    "train_targets = pd.read_csv(\"trainTargets.csv\")"
   ]
  },
  {
   "cell_type": "markdown",
   "metadata": {},
   "source": [
    "A simple approach (see Leslie et al 2002) when considering proteine classification is to use the spectrum kernel. Given sequences of characters from an alphabet $\\mathcal{A}$, of length $|\\mathcal{A}| = \\ell$, the k-spectrum of an input sequence is the set of all the $k$-length (contiguous) subsequences that it contains. The feature map is then indexed by all possible subsequences $a$ of length $k$ from the alphabet $\\mathcal{A}$. Formally, we define a feature map from $\\mathcal{X}$ to $\\mathbb{R}^{\\ell^k}$ by \n",
    "\\begin{align*}\n",
    "\\Phi_k(x) = (\\phi_a(x))_{a\\in \\mathcal{A}^k}\n",
    "\\end{align*}\n",
    "where $\\phi_a(x)$ encodes the number of times that the subsequence $a$ occurs in $x$. The $k$-spectrum kernel is then defined as\n",
    "\\begin{align*}\n",
    "K_k(\\boldsymbol x, \\boldsymbol y) = \\langle \\Phi_k(\\boldsymbol x), \\Phi_k(\\boldsymbol y) \\rangle \n",
    "\\end{align*}\n",
    "\n",
    "Note that while the feature space is large even for fairly small values of $k$, the feature vectors are sparse: the number of non-zero coordinates is bounded by length(x)-k+1 (i.e. we have at most length(x)-k+1 sequences of length k). This property allows for various efficient approaches for computing kernel values. \n",
    "\n",
    "A particularly efficient approach is to build a suffic tree for the collection of $k$-length subsequences of $x$ and $y$ obtained by moving a $k$ length sliding window across each of $x$ and $y$. At each depth $k$, we store two counts: one representing the number of times a k-length ubsequence of x ends at the leaf, the other representing the same count for y. Such a tree has depth $O(kn)$. Moreover, once it is built, the entry $K(x,y)$ can be computed by running through the leafs and summing the products of the subsequence counts for $x$ and $y$\n",
    "\n",
    "An example of a suffix tree is given below.\n",
    "\n",
    "<img src=\"suffixTree.png\" width=300 height=2000 />"
   ]
  },
  {
   "cell_type": "markdown",
   "metadata": {},
   "source": [
    "#### Exercise 4.1. \n",
    "Implement the Spectrum kernel below"
   ]
  },
  {
   "cell_type": "code",
   "execution_count": null,
   "metadata": {},
   "outputs": [],
   "source": [
    "import numpy as np\n",
    "\n"
   ]
  },
  {
   "cell_type": "markdown",
   "metadata": {},
   "source": [
    "### Part II : Maximizing the margin\n",
    "\n",
    "#### Exercise 1. The hinge loss\n",
    "\n",
    "Consider the dataset below. We would like to learn a classifier for this dataset that maximizes the margin (i.e. such that the distance between the closest points to the plane is maximized). We have seen that one can solve this problem by means of the constrained formulation\n",
    "\n",
    "\\begin{align*}\n",
    "\\min_{\\mathbf{\\beta}} \\quad & \\|\\mathbf{\\beta}\\|^2 \\\\\n",
    "\\text{subject to} \\quad & y(\\mathbf{x}^{(i)})t^{(i)} \\geq 1 \n",
    "\\end{align*}\n",
    "\n",
    "where $y(\\mathbf{x}^{(i)}) = \\mathbf{\\beta}^T\\mathbf{x}^{(i)} + \\beta_0$. We might sometimes want to use a (softer) unconstrained formulation. in particular, when selecting this option, we can use the following function known as the _Hinge loss_ \n",
    "\n",
    "\\begin{align*}\n",
    "\\max(0, 1-t^{(i)}y(\\mathbf{x}^{(i)})) = \\max(0, 1-t^{(i)}(\\mathbf{\\beta}^T\\mathbf{x}^{(i)}+\\beta_0))\n",
    "\\end{align*}\n",
    "\n",
    "For such a loss, we can derive a softer, unconstrained version of the problem as \n",
    "\n",
    "\\begin{align*}\n",
    "\\min_{\\mathbf{\\beta}} \\quad & \\|\\mathbf{\\beta}\\|^2 + \\frac{C}{N}\\sum_{i=1}^N \\max(0, 1-t^{(i)}(\\mathbf{\\beta}^T\\mathbf{x}^{(i)}+\\beta_0))\n",
    "\\end{align*}\n",
    "\n",
    "In short we penalize a point, only if this point lies on the wrong side of the plane."
   ]
  },
  {
   "cell_type": "code",
   "execution_count": 13,
   "metadata": {},
   "outputs": [
    {
     "data": {
      "image/png": "[encoded data removed]",
      "text/plain": [
       "<Figure size 432x288 with 1 Axes>"
      ]
     },
     "metadata": {
      "needs_background": "light"
     },
     "output_type": "display_data"
    }
   ],
   "source": [
    "import numpy as np\n",
    "import matplotlib.pyplot as plt\n",
    "\n",
    "from scipy.io import loadmat\n",
    "pointsClass1 = loadmat('KernelPointsEx4class1.mat')['PointsEx4class1']\n",
    "pointsClass2 = loadmat('KernelPointsEx4class2.mat')['PointsEx4class2']\n",
    "\n",
    "\n",
    "plt.scatter(pointsClass1[:,0], pointsClass1[:,1], c='r')\n",
    "plt.scatter(pointsClass2[:,0], pointsClass2[:,1], c='b')\n",
    "plt.show()"
   ]
  },
  {
   "cell_type": "markdown",
   "metadata": {},
   "source": [
    "#### Exercise 1.1 \n",
    "\n",
    "Start by completing the function below which should return the value and gradient of the hinge loss at a point $\\mathbf{x}^{(i)}$. What is the gradient of the hinge loss?"
   ]
  },
  {
   "cell_type": "code",
   "execution_count": null,
   "metadata": {},
   "outputs": [],
   "source": [
    "def HingeLoss(x):\n",
    "    \n",
    "    '''Returns the value and gradient of the hinge \n",
    "    loss at the point x'''\n",
    "    \n",
    "    \n",
    "    \n",
    "    return value, gradient"
   ]
  },
  {
   "cell_type": "markdown",
   "metadata": {},
   "source": [
    "#### Exercise 1.2\n",
    "\n",
    "Once you have the function, implement a function HingeLossSVC that takes as innput a starting weight vector $\\mathbf{\\beta}$ and intercept $\\beta_0$ as well as the set of training points and a value for the parameter $C$ and returns the maximum margin classifier.  "
   ]
  },
  {
   "cell_type": "code",
   "execution_count": null,
   "metadata": {},
   "outputs": [],
   "source": [
    "def HingeLossSVC(beta_init, beta0_init training, C):\n",
    "    \n",
    "    '''Returns the maximal margin classifier for the \n",
    "    training dataset'''\n",
    "    \n",
    "    \n",
    "    \n",
    "    \n",
    "    \n",
    "    return beta, beta0"
   ]
  },
  {
   "cell_type": "markdown",
   "metadata": {},
   "source": [
    "#### Exercise 2. \n",
    "\n",
    "We now would like to find a maximal margin classifier based on the Gaussian kernel. Write the dual formulation and use the Kernel trick to replace the inner product of the feature vectors with the (Gaussian) Kernel matrix. The dual formulation is quadratically constrained program. In order to solve this problem, we will rely on the [CVXOPT](https://cvxopt.org/) library. You can install this library from the terminal using the line 'pip install cvxopt'  \n",
    "\n",
    "CVXOPT provides a [quadratic solver](https://cvxopt.org/examples/tutorial/qp.html) which is defined by means of 6 matrices $Q, p, G, h, A, b$ which define the problem to be solved as \n",
    "\n",
    "\\begin{align*}\n",
    "\\text{minimize} \\quad & \\frac{1}{2} \\mathbf{x}^T\\mathbf{P}\\mathbf{x} + \\mathbf{q}^T\\mathbf{x}\\\\\n",
    "\\text{subject to}\\quad  & \\mathbf{G}\\mathbf{x} \\preceq h\\\\\n",
    "&\\mathbf{A}\\mathbf{x} = \\mathbf{b}\n",
    "\\end{align*}\n",
    "\n",
    "Here the notation $\\mathbf{x}\\preceq 0$ is used to indicate that every entry of the vector $\\mathbf{x}$ has to be non negative"
   ]
  },
  {
   "cell_type": "markdown",
   "metadata": {},
   "source": [
    "#### Exercise 2.1 The gaussian kernel \n",
    "\n",
    "Start by providing the definition of the Gaussian kernel in order to define the matrix $\\mathbf{P}$"
   ]
  },
  {
   "cell_type": "code",
   "execution_count": null,
   "metadata": {},
   "outputs": [],
   "source": [
    "import numpy as np\n",
    "\n",
    "\n",
    "def GaussianKernel(training, sigma):\n",
    "    \n",
    "    '''should return the kernel matrix K whose \n",
    "    entry K_ij is defined as K(x_i, x_j) = exp(-||x_i - x_j||^2/(2*sigma^2))'''\n",
    "    \n",
    "    \n",
    "    return K"
   ]
  },
  {
   "cell_type": "markdown",
   "metadata": {},
   "source": [
    "#### Exercise 2.2 Solving the QCQP\n",
    "\n",
    "Relying on the dual formulation and on the Gaussian kernel, provide a sensible definition for each of the matrices $Q, p, G, h, A, b$ and solve the quadratic program using CVXOPT."
   ]
  },
  {
   "cell_type": "code",
   "execution_count": null,
   "metadata": {},
   "outputs": [],
   "source": [
    "import numpy as np\n",
    "from cvxopt import matrix, solvers"
   ]
  }
 ],
 "metadata": {
  "kernelspec": {
   "display_name": "Python 3",
   "language": "python",
   "name": "python3"
  },
  "language_info": {
   "codemirror_mode": {
    "name": "ipython",
    "version": 3
   },
   "file_extension": ".py",
   "mimetype": "text/x-python",
   "name": "python",
   "nbconvert_exporter": "python",
   "pygments_lexer": "ipython3",
   "version": "3.8.5"
  }
 },
 "nbformat": 4,
 "nbformat_minor": 4
}
