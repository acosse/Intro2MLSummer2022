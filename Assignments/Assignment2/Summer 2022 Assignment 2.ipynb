{
 "cells": [
  {
   "cell_type": "markdown",
   "metadata": {},
   "source": [
    "<h2><center>Introduction to Machine Learning, Summer 2022</center></h2>\n",
    "  <h3><center>  Assignment 2</center></h3>\n",
    "\n",
    "__Given date:__ June 13\n",
    "\n",
    "__Due date:__ June 21\n",
    "\n",
    "__Total: 25pts__\n",
    "\n"
   ]
  },
  {
   "cell_type": "markdown",
   "metadata": {},
   "source": [
    "### Question 1 Logistic regression (15pts)\n",
    "\n",
    "##### Question 1.1 Logistic regression (5pts)\n",
    "\n",
    "As we saw during the lectures, one approach at learning a (binary) linear discriminant is to combine the sigmoid activation function with the linear discriminant $\\beta_0 + \\mathbf{\\beta}^T \\mathbf{x}$. We then assume that the probability of having a particular target ($0$ vs $1$) follows a Bernoulli with parameter $\\sigma(\\tilde{\\mathbf{\\beta}}^T\\tilde{\\mathbf{x}})$. i.e. we have \n",
    "\n",
    "$$\\left\\{\\begin{array}{l}\n",
    "P(t = 1|x) = \\sigma(\\mathbf{\\beta}^T\\mathbf{x})\\\\\n",
    "P(t = 0|x) = 1-\\sigma(\\mathbf{\\beta}^T\\mathbf{x})\\end{array}\\right.$$\n",
    "\n",
    "The total density can read from the product of each of the independent densities as \n",
    "\n",
    "$$P(\\left\\{t_i\\right\\}_{i=1}^N) = \\prod_{i=1}^N \\sigma(\\mathbf{\\beta}^T\\mathbf{x})^{t^{(i)}}(1-\\sigma(\\mathbf{\\beta}^T\\mathbf{x}))^{1-t^{(i)}}$$\n",
    "\n",
    "we can then take the log and compute the derivatives of the resulting expression with respect to each weight $\\beta_j$. Implement this approach below. Recall that the derivative of the sigmoid $\\sigma(\\boldsymbol x)$ has a _simple expression_. "
   ]
  },
  {
   "cell_type": "code",
   "execution_count": null,
   "metadata": {},
   "outputs": [],
   "source": [
    "# Step 1 define the sigmoid activation and its derivative\n",
    "\n",
    "\n",
    "def sigmoid(x):\n",
    "\n",
    "    '''the function should return the sigmoid and its derivative at all the \n",
    "    entries of x '''\n",
    "    \n",
    "    \n",
    "    return sig, deriv_sig\n",
    "\n",
    "\n",
    "def solve_logisticRegression(xi, ti, beta0, maxIter, eta):\n",
    "    \n",
    "    '''The function should return the vector of weights for a \n",
    "    logistic regression classifier learned through gradient descent \n",
    "    iterations applied to the log likelihood function'''\n",
    "    \n",
    "    \n",
    "    \n",
    "    return beta\n",
    "\n"
   ]
  },
  {
   "cell_type": "markdown",
   "metadata": {},
   "source": [
    "#### Question 1.2 Logistic regression and Fisher scoring (5pts)\n",
    "\n",
    "An interesting aspect of the MLE estimator in logistic regression (as opposed to other objective functions) is that the Hessian is positive definite. We can thus improve the iterations by using a second order method (such as Newton's method) where the simpler gradient iterations $ \\mathbf{\\boldsymbol \\beta}^{k+1}\\leftarrow \\mathbf{\\boldsymbol \\beta}^k - \\eta\\nabla \\ell(\\mathbf{\\boldsymbol \\beta}^k)$ are replaced by \n",
    "\n",
    "$$\\mathbf{\\boldsymbol \\beta}^{k+1}\\leftarrow \\mathbf{\\boldsymbol \\beta}^k - \\eta H^{-1}({{\\boldsymbol \\beta}^k})\\nabla \\ell(\\mathbf{\\boldsymbol \\beta}^k)$$\n",
    "\n",
    "(see e.g. [here](https://statacumen.com/teach/SC1/SC1_11_LogisticRegression.pdf) for more details) Start by completing the function 'HessianMLE' below which should return the Hessian of the negative log likelihood. "
   ]
  },
  {
   "cell_type": "code",
   "execution_count": null,
   "metadata": {},
   "outputs": [],
   "source": [
    "def HessianMLE(beta):\n",
    "    \n",
    "    '''Function should return the Hessian (see https://en.wikipedia.org/wiki/Hessian_matrix) \n",
    "    of the log likelihood at a particular value of the weights beta'''\n",
    "    \n",
    "    \n",
    "    return HessianMatrix\n",
    "    "
   ]
  },
  {
   "cell_type": "markdown",
   "metadata": {},
   "source": [
    "Then complete the function 'Fisher_scoring' which should learn a logistic regression classifier based on the second order Fisher iterations. "
   ]
  },
  {
   "cell_type": "code",
   "execution_count": null,
   "metadata": {},
   "outputs": [],
   "source": [
    "def Fisher_scoring(beta0, maxIter, eta):\n",
    "    \n",
    "    '''Function should compute the logistic regression classifier by relying on Fisher scoring\n",
    "    iterates should start at beta0 and be applied with a learning eta'''\n",
    "\n",
    "    while numIter<maxIter:\n",
    "    \n",
    "        hessian_beta = HessianMLE(beta)\n",
    "        \n",
    "        # if no zero eigenvalue\n",
    "        \n",
    "            invHessian = # complete \n",
    "        \n",
    "        # else \n",
    "        \n",
    "            print('Error')\n",
    "        \n",
    "        betaNext = betaPrevious - eta*np.matmul(invHessian,gradient)\n",
    "    \n",
    "\n",
    "\n",
    "    return optimal_beta"
   ]
  },
  {
   "cell_type": "markdown",
   "metadata": {},
   "source": [
    "#### Question 1.3 Comparing the two approaches. (5pts)\n",
    "\n",
    "Compare the simple (first order) gradient iterations with the (second order) Fisher iterations for the dataset given below. Plot the evolution of the log likelihood through the iterations, for both methods.  "
   ]
  },
  {
   "cell_type": "code",
   "execution_count": 6,
   "metadata": {},
   "outputs": [
    {
     "data": {
      "image/png": "[encoded data removed]",
      "text/plain": [
       "<Figure size 432x288 with 1 Axes>"
      ]
     },
     "metadata": {
      "needs_background": "light"
     },
     "output_type": "display_data"
    }
   ],
   "source": [
    "import numpy as np\n",
    "import matplotlib.pyplot as plt\n",
    "\n",
    "import scipy.io\n",
    "class1 = scipy.io.loadmat('class1HW1_LR.mat')['class1']\n",
    "class2 = scipy.io.loadmat('class2HW1_LR.mat')['class2']\n",
    "\n",
    "targets_class1 = np.ones(np.shape(class1)[0])\n",
    "targets_class0 = np.zeros(np.shape(class0)[0])\n",
    "\n",
    "plt.scatter(class1[:,0], class1[:,1], c = 'r')\n",
    "plt.scatter(class2[:,0], class2[:,1], c = 'b')\n",
    "plt.show()"
   ]
  },
  {
   "cell_type": "markdown",
   "metadata": {},
   "source": [
    "### Question 2. Convolutional nets and autonomous driving  (10pts)"
   ]
  },
  {
   "cell_type": "markdown",
   "metadata": {},
   "source": [
    "In this second question, we will use [the Keras API](https://keras.io/) to build and train a convolutional neural network to discriminate between four types of road signs. To simplify we will consider 4 different signs: \n",
    "\n",
    "- A '30 km/h' sign (folder 1)\n",
    "- A 'Stop' sign \n",
    "- A 'Go straight' sign\n",
    "- A 'Keep left' sign \n",
    "\n",
    "\n",
    "<img src=\"learning2Drive.jpeg\" style=\"width:400px\">\n"
   ]
  },
  {
   "cell_type": "markdown",
   "metadata": {},
   "source": [
    "An example of each sign is given below."
   ]
  },
  {
   "cell_type": "code",
   "execution_count": 2,
   "metadata": {},
   "outputs": [
    {
     "data": {
      "image/png": "[encoded data removed]",
      "text/plain": [
       "<Figure size 432x288 with 4 Axes>"
      ]
     },
     "metadata": {
      "needs_background": "light"
     },
     "output_type": "display_data"
    }
   ],
   "source": [
    "\n",
    "import matplotlib.pyplot as plt\n",
    "import matplotlib.image as mpimg\n",
    "\n",
    "img1 = mpimg.imread('1/00001_00000_00012.png')\n",
    "plt.subplot(141)\n",
    "plt.imshow(img1)\n",
    "plt.axis('off')\n",
    "plt.subplot(142)\n",
    "img2 = mpimg.imread('2/00014_00001_00019.png')\n",
    "plt.imshow(img2)\n",
    "plt.axis('off')\n",
    "plt.subplot(143)\n",
    "img3 = mpimg.imread('3/00035_00008_00023.png')\n",
    "plt.imshow(img3)\n",
    "plt.axis('off')\n",
    "plt.subplot(144)\n",
    "img4 = mpimg.imread('4/00039_00000_00029.png')\n",
    "plt.imshow(img4)\n",
    "plt.axis('off')\n",
    "plt.show()"
   ]
  },
  {
   "cell_type": "markdown",
   "metadata": {},
   "source": [
    "### Question 2.1. (Constructing the network 5pts) \n",
    "\n",
    "In this first part, we will set up the convolutional net step by step.\n",
    "\n",
    "- Before building the network, you should start by cropping the images so that they all have a common predefined size (take the smallest size across all images) \n",
    "\n",
    "\n",
    "- We will use a __Sequential model__ from Keras but it will be up to you to define the final structure of the network. The construction of a sequential model should be started with the following line "
   ]
  },
  {
   "cell_type": "code",
   "execution_count": null,
   "metadata": {},
   "outputs": [],
   "source": [
    "from tensorflow.keras import Sequential\n",
    "model = Sequential()"
   ]
  },
  {
   "cell_type": "markdown",
   "metadata": {},
   "source": [
    "#### 2.1.a. Convolutions. \n",
    "\n",
    "- We will use a __convolutional__ architecture. you can add convolutional layers to the model by using the following lines "
   ]
  },
  {
   "cell_type": "code",
   "execution_count": null,
   "metadata": {},
   "outputs": [],
   "source": [
    "model.add(Conv2D(num_units, (filter_size1, filter_size2), padding='same',\n",
    "                             input_shape=(3, IMG_SIZE, IMG_SIZE),\n",
    "                             activation='relu'))\n",
    "                                        "
   ]
  },
  {
   "cell_type": "markdown",
   "metadata": {},
   "source": [
    "for the first layer and                     "
   ]
  },
  {
   "cell_type": "code",
   "execution_count": null,
   "metadata": {},
   "outputs": [],
   "source": [
    "model.add(Conv2D(filters, filter_size, activation, input_shape)"
   ]
  },
  {
   "cell_type": "markdown",
   "metadata": {},
   "source": [
    "for all the other layers. The 'filters' parameter indicates the number of filters you want to use in the layer. 'filter_size' encodes the size of each filter and 'activation' can be used to specify the activation function that will be applied to the output of the layer, i.e.\n",
    "\n",
    "$$x_{\\text{out}} = \\sigma(\\text{filter}*\\text{input}).$$ \n",
    "\n",
    "Finally 'input_shape' encodes the size of the input. Note that the input layer is the only layer for which the input size should be explicitely specified. Subsequent layers will automatically compute the size of their inputs based on the outputs of the previous layers. "
   ]
  },
  {
   "cell_type": "markdown",
   "metadata": {},
   "source": [
    "#### 2.1.b Pooling Layers \n",
    "\n",
    "On top of the convolutional layers, convolutional neural networks (CNN) also involve __Pooling layers__. The addition of such layer can be done through the following line "
   ]
  },
  {
   "cell_type": "code",
   "execution_count": null,
   "metadata": {},
   "outputs": [],
   "source": [
    " model.add(MaxPooling2D(pool_size=(filter_sz1, filter_sz2),strides=None))"
   ]
  },
  {
   "cell_type": "markdown",
   "metadata": {},
   "source": [
    "The __pooling layers__ come with two parameters: the 'pool size' and the 'stride'. The basic choice for the pool size is (2,2) and the stride is usually set to None (which means it will split the image into non overlapping regions such as in the Figure below). You should however feel free to play a little with those parameters. A __Max Pooling operator__ slides a mask of size 'pool_size' over the image by a number of pixels equal to the stride parameters (in x and y, there are hence two translation parameters). for each position of the mask, the output then returns the max of the pixels appearing in the mask (again, see the Figure below). One way to understand the effect of a pooling operator is that when the filter detects an edge in a subregion of the image (thus returning at least one large value), although the MaxPooling operation will reduce the resolution, it will keep track of this information.    \n",
    "\n",
    "Adding 'Maxpooling' layers is known to work well in practice for image processing tasks. "
   ]
  },
  {
   "cell_type": "markdown",
   "metadata": {},
   "source": [
    "<img src=\"Maxpool.png\" style=\"width:500px\">\n"
   ]
  },
  {
   "cell_type": "markdown",
   "metadata": {},
   "source": [
    "Although it is up to you to decide how you want to structure the network, a good start is to add a couple (definitely not exceeding 4) combinations (convolution, convolution, Pooling) with an increasing number of units per layer (you can for example consider a number of units increasing according to powers of 2 such as 16, 32, 128,...). "
   ]
  },
  {
   "cell_type": "markdown",
   "metadata": {},
   "source": [
    "#### 2.1.c. Flattening and Fully connected layers\n",
    "\n",
    "Once you have stacked the convolutional and pooling layers, you should flatten the output through a line of the form"
   ]
  },
  {
   "cell_type": "code",
   "execution_count": null,
   "metadata": {},
   "outputs": [],
   "source": [
    "model.add(Flatten())"
   ]
  },
  {
   "cell_type": "markdown",
   "metadata": {},
   "source": [
    "And add a couple (no need to put more than 2,3) dense fully connected layers through lines of the form"
   ]
  },
  {
   "cell_type": "code",
   "execution_count": null,
   "metadata": {},
   "outputs": [],
   "source": [
    "model.add(Dense(num_units, activation='relu'))"
   ]
  },
  {
   "cell_type": "markdown",
   "metadata": {},
   "source": [
    "#### 2.1.d. Concluding \n",
    "\n",
    "Since there are four possible signs, you need to __finish your network with a dense layer consisting of 4 units__. Each of those units should output a number between 0 and 1 representing the likelihood that any of the four signs is detected. Correspondingly those numbers should satisfy $n_1 + n_2 + n_3 + n_4 = 1$ (hopefully with one $n_i$ larger than the others). For this reason, a good choice for the __final activation function__ of those four units is the __softmax__ (Why?). \n",
    "\n",
    "\n",
    "Build your model below. "
   ]
  },
  {
   "cell_type": "code",
   "execution_count": null,
   "metadata": {},
   "outputs": [],
   "source": [
    "model = Sequential()\n",
    "\n",
    "# construct the model using convolutional layers, dense fully connected layers and \n",
    "\n"
   ]
  },
  {
   "cell_type": "markdown",
   "metadata": {},
   "source": [
    "### Question 2.2. Setting up the optimizer (3pts).\n",
    "\n",
    "Once you have found a good architecture for your network, split the dataset, by retaining about 90% of the images for training and 10% for test. To train the network in Keras, we need two more steps. The first step will set up the optimizer. Here again it is up to you to decide how you want to set up the optimization. Two popular approaches are __SGD and ADAM__. You will get to choose the learning rate (although it is a good idea to take it between 1e-3 and 1e-2). Once you have set up the optimizer, you need to specify the loss (we will take it to be the __categorical cross entropy__ which is the extension of the log loss to the multiclass problem).   "
   ]
  },
  {
   "cell_type": "code",
   "execution_count": null,
   "metadata": {},
   "outputs": [],
   "source": [
    "from tensorflow.keras.optimizers import SGD\n",
    "from tensorflow.keras.optimizers import Adam\n",
    "\n",
    "# set up the optimize here\n",
    "# Myoptimizer = SGD\n",
    "# Myoptimizer = Adam\n",
    "\n",
    "model.compile(loss='categorical_crossentropy',\n",
    "              optimizer=Myoptimizer,\n",
    "              metrics=['accuracy'])"
   ]
  },
  {
   "cell_type": "markdown",
   "metadata": {},
   "source": [
    "### Question 2.3 Optimization (2pts).\n",
    "\n",
    "Our last step will consist in fitting the network to the training set. Just as for any implementation in scikit-learn, we will rely on the function 'fit'. In image processing tasks, the training of convolutional neural networks is usually done by splitting the dataset into minibatches and using a different batch for each SGD iteration. This process is repeated over the whole dataset. A complete screening of the dataset is known as an 'epoch'. The complete training step then repeats several epochs. In keras the number of epochs is stored in the 'epochs' parameter of the function 'fit' and the batch size is stored in the 'batch_size' parameter. Plot the evolution of the loss through the SGD iterations. "
   ]
  },
  {
   "cell_type": "code",
   "execution_count": null,
   "metadata": {},
   "outputs": [],
   "source": [
    "from sklearn.model_selection import train_test_split\n",
    "batch_size = 32\n",
    "epochs = 30\n",
    "X_train, X_test, t_train, t_test = train_test_split(X, t, test_size=0.1, random_state=1)\n",
    "model.fit(X_train, t_train, batch_size=batch_size, epochs=epochs, validation_split=0.15)\n",
    "model.evaluate(X_test, t_test)"
   ]
  }
 ],
 "metadata": {
  "kernelspec": {
   "display_name": "Python 3",
   "language": "python",
   "name": "python3"
  },
  "language_info": {
   "codemirror_mode": {
    "name": "ipython",
    "version": 3
   },
   "file_extension": ".py",
   "mimetype": "text/x-python",
   "name": "python",
   "nbconvert_exporter": "python",
   "pygments_lexer": "ipython3",
   "version": "3.8.5"
  }
 },
 "nbformat": 4,
 "nbformat_minor": 4
}
